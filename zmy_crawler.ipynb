{
 "cells": [
  {
   "cell_type": "code",
   "execution_count": null,
   "id": "425d6555",
   "metadata": {},
   "outputs": [],
   "source": [
    "from webdriver_manager.chrome import ChromeDriverManager   #-------\n",
    "from selenium import webdriver\n",
    "from selenium.webdriver.common.keys import Keys\n",
    "from selenium.webdriver.common.by import By\n",
    "import time\n",
    "from datetime import datetime\n",
    "import json\n",
    "from dateutil.relativedelta import *\n",
    "import os\n",
    "\n",
    "def scrolling_down(t):\n",
    "    for i in range(t):\n",
    "        driver.execute_script(\"window.scrollBy(0,2000)\",\"\")\n",
    "        time.sleep(0.5)\n",
    "        \n",
    "def get_text(x):\n",
    "    return driver.find_element(By.XPATH,x).text\n",
    "\n",
    "def get_herf(x):\n",
    "    return driver.find_element(By.XPATH,x).get_attribute(\"href\")\n",
    "\n",
    "def click(x):\n",
    "    driver.find_element(By.XPATH,x).click()"
   ]
  },
  {
   "cell_type": "markdown",
   "id": "6455c8f0",
   "metadata": {},
   "source": [
    "# gen links"
   ]
  },
  {
   "cell_type": "code",
   "execution_count": null,
   "id": "ac03c779",
   "metadata": {},
   "outputs": [],
   "source": [
    "# driver = webdriver.Chrome()\n",
    "driver = webdriver.Chrome(ChromeDriverManager(version='108.0.5359.71').install())   #-----------------\n"
   ]
  },
  {
   "cell_type": "code",
   "execution_count": null,
   "id": "79aef760",
   "metadata": {},
   "outputs": [],
   "source": [
    "page = 1\n",
    "driver.get(f'https://th.zmyhome.com/buy?page={page}&sortFilter=ads&per-page=40')\n",
    "driver.find_element(By.XPATH,'/html/body/div[2]/button').click()\n",
    "max_page = driver.find_element(By.XPATH,'/html/body/div[1]/section[2]/div/div/div/div[5]/ul/li[8]/a').text\n",
    "max_page = int(max_page)\n",
    "max_page"
   ]
  },
  {
   "cell_type": "code",
   "execution_count": null,
   "id": "1aab5af1",
   "metadata": {},
   "outputs": [],
   "source": [
    "def get_links(page):\n",
    "    driver.get(f'https://th.zmyhome.com/buy?page={page}&sortFilter=ads&per-page=40')\n",
    "    time.sleep(3)\n",
    "    LINK = []\n",
    "    c = 1\n",
    "    for i in range(50):\n",
    "        try:\n",
    "            p = f'/html/body/div[1]/section[2]/div/div/div/div[4]/div[{i}]/article/figure/a'\n",
    "            link = driver.find_element(By.XPATH,p).get_attribute(\"href\")\n",
    "#             print(page,c,i,link)\n",
    "            LINK.append(link)\n",
    "            c += 1\n",
    "        except:\n",
    "            pass\n",
    "    return LINK\n",
    "    \n",
    "# max_page = 1 \n",
    "# page = 1\n",
    "# LINKS = []\n",
    "# for page in range(1,max_page+1):\n",
    "#     LINK = get_links(page)\n",
    "#     LINKS += LINK"
   ]
  },
  {
   "cell_type": "code",
   "execution_count": null,
   "id": "a9bd8777",
   "metadata": {},
   "outputs": [],
   "source": [
    "LINK"
   ]
  },
  {
   "cell_type": "code",
   "execution_count": null,
   "id": "f2255224",
   "metadata": {},
   "outputs": [],
   "source": [
    "len(LINKS)"
   ]
  },
  {
   "cell_type": "markdown",
   "id": "2e45e7ab",
   "metadata": {},
   "source": [
    "# get details"
   ]
  },
  {
   "cell_type": "code",
   "execution_count": null,
   "id": "4de4d365",
   "metadata": {},
   "outputs": [],
   "source": [
    "# driver.get(LINKS[1])\n",
    "\n",
    "def get_Details(url):\n",
    "\n",
    "#     driver.get('https://th.zmyhome.com/property/H362887')\n",
    "    driver.get(url)\n",
    "    time.sleep(3)\n",
    "\n",
    "    def get_detailbox():\n",
    "        t = get_text('/html/body/div[1]/section[1]/div/div/div/div[3]/div[2]').split('\\n')[1:]\n",
    "        d = {}\n",
    "        for i in range(len(t)):\n",
    "            if i%2==0:\n",
    "                d[t[i]] = t[i+1]\n",
    "        return d\n",
    "\n",
    "    def get_near():\n",
    "        t = get_text('/html/body/div[1]/section[1]/div/div/div/div[3]/div[5]').split('\\n')\n",
    "        location = t[2]\n",
    "        t = [x for x in t if x not in ['ทำเลที่ตั้ง','คลิกดูแผนที่','น้อยลง']]\n",
    "        idx = None\n",
    "        near = []\n",
    "        for i in t:\n",
    "            if '(' not in i:\n",
    "                idx = i\n",
    "            else:\n",
    "    #             print(idx,i)\n",
    "                near.append(f'{idx}-{i}')\n",
    "        return near,location\n",
    "    \n",
    "    def create_date(d):\n",
    "        dd = d.split()\n",
    "        if 'เดือน' in d:\n",
    "            date = datetime.now() + relativedelta(months=-1*int(dd[1]))\n",
    "        elif 'วัน' in d:\n",
    "            date = datetime.now() + relativedelta(days=-1*int(dd[1]))\n",
    "        elif 'ปี' in d:\n",
    "            date = datetime.now() + relativedelta(years=-1*int(dd[1]))\n",
    "        else:\n",
    "            date = None\n",
    "        return date.strftime(\"%Y%m%d\")\n",
    "\n",
    "    d = get_detailbox()\n",
    "    try:\n",
    "        click('/html/body/div[1]/section[1]/div/div/div/div[3]/div[5]/a')  #attend ทำเลที่ตั้ง\n",
    "    except:\n",
    "        pass\n",
    "    d['header'] = get_text('/html/body/div[1]/section[1]/div/div/div/div[1]/h2')\n",
    "    d['gps'] = get_herf('/html/body/div[1]/section[1]/div/div/div/div[3]/div[6]/div/a')\n",
    "    d['price_per_area'] = get_text('/html/body/div[1]/section[1]/div/div/div/div[3]/div[1]/ul/li/small')\n",
    "    d['seen'] = get_text('/html/body/div[1]/section[1]/div/div/div/div[2]/div[2]/div/ul[2]/li[1]/a/span[2]')\n",
    "    d['love'] = get_text('/html/body/div[1]/section[1]/div/div/div/div[2]/div[2]/div/ul[2]/li[2]/a/span[2]')\n",
    "    d['last_update'] = create_date(get_text('/html/body/div[1]/section[1]/div/div/div/div[2]/div[2]/div/ul[2]/li[4]/a/span[2]'))\n",
    "    d['near'],d['location'] = get_near()\n",
    "    d['timestamp'] = time.time()\n",
    "    return d\n",
    "\n",
    "# url = 'https://th.zmyhome.com/property/H362887'\n",
    "# get_Details(url)\n",
    "\n",
    "\n",
    "\n"
   ]
  },
  {
   "cell_type": "code",
   "execution_count": null,
   "id": "dd9e21e9",
   "metadata": {},
   "outputs": [],
   "source": [
    "#test\n",
    "driver.get('https://th.zmyhome.com/property/V138493')\n",
    "# time.sleep(3)"
   ]
  },
  {
   "cell_type": "code",
   "execution_count": null,
   "id": "cc03f04b",
   "metadata": {},
   "outputs": [],
   "source": [
    "# get_herf('/html/body/div[1]/section[1]/div/div/div/div[3]/div[6]/div/a')\n",
    "driver.get('https://th.zmyhome.com/property/H18071')"
   ]
  },
  {
   "cell_type": "code",
   "execution_count": null,
   "id": "667b14c0",
   "metadata": {},
   "outputs": [],
   "source": [
    "get_text('/html/body/div[1]/section[1]/div/div/div/div[1]/div')"
   ]
  },
  {
   "cell_type": "code",
   "execution_count": null,
   "id": "6764f8bb",
   "metadata": {
    "scrolled": true
   },
   "outputs": [],
   "source": [
    "max_page = 2\n",
    "page = 1\n",
    "\n",
    "if not os.path.exists('data'):\n",
    "  os.makedirs('data')\n",
    "\n",
    "for page in range(1,max_page+1):\n",
    "    LINK = get_links(page)\n",
    "#     LINK = LINK[:5]  #---------------\n",
    "    \n",
    "    try:\n",
    "        with open('data/zmy_data.json', 'r') as openfile:\n",
    "            D = json.load(openfile)\n",
    "    except:\n",
    "        D = {}\n",
    "\n",
    "    for url in LINK:\n",
    "        print(url)\n",
    "        d = get_Details(url)\n",
    "        print(d)\n",
    "        D[url] = d\n",
    "\n",
    "    with open(\"data/zmy_data.json\", \"w\") as outfile:\n",
    "        outfile.write(json.dumps(D, indent=4))"
   ]
  },
  {
   "cell_type": "code",
   "execution_count": null,
   "id": "a9ff86e4",
   "metadata": {},
   "outputs": [],
   "source": [
    "'https://th.zmyhome.com/property/V179876' in D.keys()"
   ]
  },
  {
   "cell_type": "code",
   "execution_count": null,
   "id": "e1880b07",
   "metadata": {},
   "outputs": [],
   "source": []
  },
  {
   "cell_type": "code",
   "execution_count": null,
   "id": "4ba95784",
   "metadata": {},
   "outputs": [],
   "source": []
  },
  {
   "cell_type": "code",
   "execution_count": null,
   "id": "d21f65a5",
   "metadata": {},
   "outputs": [],
   "source": []
  },
  {
   "cell_type": "code",
   "execution_count": null,
   "id": "44cfb512",
   "metadata": {},
   "outputs": [],
   "source": []
  },
  {
   "cell_type": "code",
   "execution_count": 6,
   "id": "10083334",
   "metadata": {},
   "outputs": [
    {
     "ename": "KeyError",
     "evalue": "'gpss'",
     "output_type": "error",
     "traceback": [
      "\u001b[0;31m---------------------------------------------------------------------------\u001b[0m",
      "\u001b[0;31mKeyError\u001b[0m                                  Traceback (most recent call last)",
      "\u001b[0;32m/var/folders/xr/f6sgrqmd7cv2l742vt5ngyhr0000gn/T/ipykernel_28082/4183846703.py\u001b[0m in \u001b[0;36m<module>\u001b[0;34m\u001b[0m\n\u001b[1;32m      3\u001b[0m \u001b[0;32mwith\u001b[0m \u001b[0mopen\u001b[0m\u001b[0;34m(\u001b[0m\u001b[0;34m'data/zmy_data.json'\u001b[0m\u001b[0;34m,\u001b[0m \u001b[0;34m'r'\u001b[0m\u001b[0;34m)\u001b[0m \u001b[0;32mas\u001b[0m \u001b[0mopenfile\u001b[0m\u001b[0;34m:\u001b[0m\u001b[0;34m\u001b[0m\u001b[0;34m\u001b[0m\u001b[0m\n\u001b[1;32m      4\u001b[0m     \u001b[0mD\u001b[0m \u001b[0;34m=\u001b[0m \u001b[0mjson\u001b[0m\u001b[0;34m.\u001b[0m\u001b[0mload\u001b[0m\u001b[0;34m(\u001b[0m\u001b[0mopenfile\u001b[0m\u001b[0;34m)\u001b[0m\u001b[0;34m\u001b[0m\u001b[0;34m\u001b[0m\u001b[0m\n\u001b[0;32m----> 5\u001b[0;31m \u001b[0mD\u001b[0m\u001b[0;34m[\u001b[0m\u001b[0;34m'https://th.zmyhome.com/property/V180552'\u001b[0m\u001b[0;34m]\u001b[0m\u001b[0;34m[\u001b[0m\u001b[0;34m'gpss'\u001b[0m\u001b[0;34m]\u001b[0m\u001b[0;34m\u001b[0m\u001b[0;34m\u001b[0m\u001b[0m\n\u001b[0m",
      "\u001b[0;31mKeyError\u001b[0m: 'gpss'"
     ]
    }
   ],
   "source": [
    "import json\n",
    "\n",
    "with open('data/zmy_data.json', 'r') as openfile:\n",
    "    D = json.load(openfile)\n",
    "D['https://th.zmyhome.com/property/V180552']['gpss']"
   ]
  },
  {
   "cell_type": "code",
   "execution_count": null,
   "id": "295e7034",
   "metadata": {},
   "outputs": [],
   "source": [
    "url = 'https://th.zmyhome.com/property/V179876'\n",
    "D[url]['last_update'] >"
   ]
  },
  {
   "cell_type": "code",
   "execution_count": null,
   "id": "9c7ade3b",
   "metadata": {},
   "outputs": [],
   "source": [
    "datetime.now().strftime(\"%Y%m%d\")"
   ]
  },
  {
   "cell_type": "code",
   "execution_count": null,
   "id": "17800970",
   "metadata": {},
   "outputs": [],
   "source": [
    "def diff_month(d2,d1):\n",
    "#     d2 = datetime.now().strftime(\"%Y%m%d\")\n",
    "    y = int(d2[:4])-int(d1[:4])\n",
    "    m = int(d2[4:6])-int(d1[4:6])\n",
    "    return 12*y+m\n",
    "    \n",
    "\n",
    "d1 = '20221008'\n",
    "d2 = '20221105'\n",
    "diff_month(d2,d1)\n",
    "\n",
    "\n",
    "# y = int(d2[:4])-int(d1[:4])\n",
    "# m = int(d2[4:6])-int(d1[4:6])\n",
    "# d = int(d2[6:])-int(d1[6:])\n",
    "# y,m,d\n",
    "# # int(d2[:3])-int('202212')"
   ]
  },
  {
   "cell_type": "code",
   "execution_count": null,
   "id": "d2d35773",
   "metadata": {},
   "outputs": [],
   "source": [
    "dm = 12*y+m\n",
    "dm"
   ]
  },
  {
   "cell_type": "code",
   "execution_count": null,
   "id": "39f092d3",
   "metadata": {},
   "outputs": [],
   "source": [
    "def create_date(dd):\n",
    "    if not dd:\n",
    "        return None\n",
    "    d = dd.split()\n",
    "    if 'ชม.' in d:\n",
    "        date = str(datetime.datetime.now() + datetime.timedelta(hours=-1*int(d[0])))\n",
    "    elif 'วัน' in d:\n",
    "        date = str(datetime.datetime.now() + datetime.timedelta(days=-1*int(d[0])))\n",
    "    elif 'เวลา' in d:\n",
    "        if len(d[0]) == 1: d[0] = '0'+d[0]\n",
    "        date = f'{datetime.datetime.now().strftime(\"%Y\")}-{month[d[1]]}-{d[0]} {d[3]}:00:000000'\n",
    "    elif d[-1] in month:\n",
    "        if len(d[0]) == 1: d[0] = '0'+d[0]\n",
    "        date = f'{datetime.datetime.now().strftime(\"%Y\")}-{month[d[1]]}-{d[0]} {str(datetime.datetime.now()).split()[-1]}'\n",
    "    else:\n",
    "        date = None\n",
    "    return date\n",
    "\n"
   ]
  },
  {
   "cell_type": "code",
   "execution_count": null,
   "id": "8915f213",
   "metadata": {},
   "outputs": [],
   "source": [
    "dates = ['อัพเดตล่าสุด 8 เดือน','อัพเดตล่าสุด 8 วัน','อัพเดตล่าสุด 8 ปี']\n",
    "\n",
    "def create_date(d):\n",
    "    dd = d.split()\n",
    "    if 'เดือน' in d:\n",
    "        date = datetime.now() + relativedelta(months=-1*int(dd[1]))\n",
    "    elif 'วัน' in d:\n",
    "        date = datetime.now() + relativedelta(days=-1*int(dd[1]))\n",
    "    elif 'ปี' in d:\n",
    "        date = datetime.now() + relativedelta(years=-1*int(dd[1]))\n",
    "    else:\n",
    "        date = None\n",
    "    return date.strftime(\"%Y%m%d\")\n",
    "\n",
    "create_date(dates[0])"
   ]
  },
  {
   "cell_type": "code",
   "execution_count": null,
   "id": "b50c0848",
   "metadata": {},
   "outputs": [],
   "source": [
    "dates[0].split()"
   ]
  },
  {
   "cell_type": "code",
   "execution_count": null,
   "id": "ff5402db",
   "metadata": {},
   "outputs": [],
   "source": [
    "datetime.datetime.now() + datetime.timedelta(months=1)"
   ]
  },
  {
   "cell_type": "code",
   "execution_count": null,
   "id": "31fc0d38",
   "metadata": {},
   "outputs": [],
   "source": [
    "from datetime import datetime, timedelta\n",
    "from dateutil.relativedelta import *\n",
    "\n",
    "date = datetime.now()\n",
    "print(date)\n",
    "# 2018-09-24 13:24:04.007620\n",
    "\n",
    "date = date + relativedelta(months=+6)\n",
    "print(date)"
   ]
  },
  {
   "cell_type": "code",
   "execution_count": null,
   "id": "befb39d0",
   "metadata": {},
   "outputs": [],
   "source": []
  },
  {
   "cell_type": "code",
   "execution_count": null,
   "id": "3af9ca02",
   "metadata": {},
   "outputs": [],
   "source": []
  },
  {
   "cell_type": "code",
   "execution_count": null,
   "id": "ba2061d4",
   "metadata": {},
   "outputs": [],
   "source": [
    "import time\n",
    "\n",
    "# current timestamp\n",
    "x = time.time()\n",
    "x"
   ]
  },
  {
   "cell_type": "code",
   "execution_count": null,
   "id": "4e34021b",
   "metadata": {},
   "outputs": [],
   "source": [
    "# Serializing json\n",
    "json_object = json.dumps(D, indent=5)\n",
    " \n",
    "# Writing to sample.json\n",
    "with open(\"sample.json\", \"w\") as outfile:\n",
    "    outfile.write(json_object)"
   ]
  },
  {
   "cell_type": "code",
   "execution_count": null,
   "id": "024b22ef",
   "metadata": {},
   "outputs": [],
   "source": [
    "json_object = json.dumps(D, indent = 4) \n",
    "print(json_object)"
   ]
  },
  {
   "cell_type": "code",
   "execution_count": null,
   "id": "348cf62c",
   "metadata": {},
   "outputs": [],
   "source": []
  },
  {
   "cell_type": "code",
   "execution_count": null,
   "id": "f2cfe479",
   "metadata": {},
   "outputs": [],
   "source": []
  },
  {
   "cell_type": "code",
   "execution_count": null,
   "id": "9710920a",
   "metadata": {},
   "outputs": [],
   "source": [
    "click('/html/body/div[1]/section[1]/div/div/div/div[3]/div[5]/a')  #attend ทำเลที่ตั้ง"
   ]
  },
  {
   "cell_type": "code",
   "execution_count": null,
   "id": "f78bd05e",
   "metadata": {},
   "outputs": [],
   "source": [
    "d['gps'] = get_herf('/html/body/div[1]/section[1]/div/div/div/div[3]/div[5]/div/a')\n",
    "d['price_per_area'] = get_text('/html/body/div[1]/section[1]/div/div/div/div[3]/div[1]/ul/li/small')\n",
    "d['seen'] = get_text('/html/body/div[1]/section[1]/div/div/div/div[2]/div[2]/div/ul[2]/li[1]/a/span[2]')\n",
    "d['love'] = get_text('/html/body/div[1]/section[1]/div/div/div/div[2]/div[2]/div/ul[2]/li[2]/a/span[2]')\n",
    "d['last_update'] = get_text('/html/body/div[1]/section[1]/div/div/div/div[2]/div[2]/div/ul[2]/li[4]/a/span[2]')\n",
    "d"
   ]
  },
  {
   "cell_type": "code",
   "execution_count": null,
   "id": "dc8851a9",
   "metadata": {},
   "outputs": [],
   "source": [
    "t = get_text('/html/body/div[1]/section[1]/div/div/div/div[3]/div[5]').split('\\n')\n",
    "location = t[2]\n",
    "t = [x for x in t if x not in ['ทำเลที่ตั้ง','คลิกดูแผนที่','น้อยลง']]\n",
    "idx = None\n",
    "near = []\n",
    "for i in t:\n",
    "    if '(' not in i:\n",
    "        idx = i\n",
    "    else:\n",
    "        print(idx,i)\n",
    "        near.append(f'{idx}-{i}')\n",
    "near"
   ]
  },
  {
   "cell_type": "code",
   "execution_count": null,
   "id": "ab0fc104",
   "metadata": {},
   "outputs": [],
   "source": []
  },
  {
   "cell_type": "code",
   "execution_count": null,
   "id": "0dabfa74",
   "metadata": {},
   "outputs": [],
   "source": [
    "\n",
    "# Getting the current date and time\n",
    "dt = datetime.now()\n",
    "dt"
   ]
  },
  {
   "cell_type": "code",
   "execution_count": null,
   "id": "a48f11df",
   "metadata": {},
   "outputs": [],
   "source": []
  },
  {
   "cell_type": "code",
   "execution_count": null,
   "id": "20fc1713",
   "metadata": {},
   "outputs": [],
   "source": []
  },
  {
   "cell_type": "code",
   "execution_count": null,
   "id": "e20fef57",
   "metadata": {},
   "outputs": [],
   "source": []
  },
  {
   "cell_type": "code",
   "execution_count": null,
   "id": "613d7ab5",
   "metadata": {},
   "outputs": [],
   "source": [
    "gps = get_herf('/html/body/div[1]/section[1]/div/div/div/div[3]/div[5]/div/a')\n",
    "gps"
   ]
  },
  {
   "cell_type": "code",
   "execution_count": null,
   "id": "359a63c7",
   "metadata": {},
   "outputs": [],
   "source": [
    "price_per_area = get_text('/html/body/div[1]/section[1]/div/div/div/div[3]/div[1]/ul/li/small')\n",
    "price_per_area"
   ]
  },
  {
   "cell_type": "code",
   "execution_count": null,
   "id": "f6d5026d",
   "metadata": {},
   "outputs": [],
   "source": [
    "seen = get_text('/html/body/div[1]/section[1]/div/div/div/div[2]/div[2]/div/ul[2]/li[1]/a/span[2]')\n",
    "seen\n",
    "love = get_text('/html/body/div[1]/section[1]/div/div/div/div[2]/div[2]/div/ul[2]/li[2]/a/span[2]')\n",
    "love\n",
    "last_update = get_text('/html/body/div[1]/section[1]/div/div/div/div[2]/div[2]/div/ul[2]/li[4]/a/span[2]')\n",
    "last_update"
   ]
  },
  {
   "cell_type": "code",
   "execution_count": null,
   "id": "8db3437c",
   "metadata": {},
   "outputs": [],
   "source": []
  },
  {
   "cell_type": "code",
   "execution_count": null,
   "id": "a99e36c7",
   "metadata": {},
   "outputs": [],
   "source": []
  },
  {
   "cell_type": "code",
   "execution_count": null,
   "id": "fed4fcbc",
   "metadata": {},
   "outputs": [],
   "source": []
  },
  {
   "cell_type": "code",
   "execution_count": null,
   "id": "ab303742",
   "metadata": {},
   "outputs": [],
   "source": [
    "t = get_text('/html/body/div[1]/section[1]/div/div/div/div[3]/div[5]').split('\\n')\n",
    "t"
   ]
  },
  {
   "cell_type": "code",
   "execution_count": null,
   "id": "18b9c7ce",
   "metadata": {},
   "outputs": [],
   "source": [
    "location = t[2]\n",
    "t = [x for x in t if x not in ['ทำเลที่ตั้ง','คลิกดูแผนที่','น้อยลง']]\n",
    "idx = None\n",
    "near = []\n",
    "for i in t:\n",
    "    if '(' not in i:\n",
    "        idx = i\n",
    "    else:\n",
    "        print(idx,i)\n",
    "        near.append()\n",
    "        "
   ]
  },
  {
   "cell_type": "code",
   "execution_count": null,
   "id": "402999ab",
   "metadata": {},
   "outputs": [],
   "source": []
  },
  {
   "cell_type": "code",
   "execution_count": null,
   "id": "3863326d",
   "metadata": {},
   "outputs": [],
   "source": [
    "t = get_text('/html/body/div[1]/section[1]/div/div/div/div[3]/div[2]')\n",
    "t"
   ]
  },
  {
   "cell_type": "code",
   "execution_count": null,
   "id": "74e08f27",
   "metadata": {},
   "outputs": [],
   "source": [
    "d = {}\n",
    "t = t.split('\\n')[1:]\n",
    "\n",
    "len(t)"
   ]
  },
  {
   "cell_type": "code",
   "execution_count": null,
   "id": "b3dfaac7",
   "metadata": {},
   "outputs": [],
   "source": [
    "d = {}\n",
    "for i in range(len(t)//2):\n",
    "    print(i)\n",
    "    if i%2==0:\n",
    "        d[t[i]] = t[i+1]\n",
    "d"
   ]
  },
  {
   "cell_type": "code",
   "execution_count": null,
   "id": "4b20f48e",
   "metadata": {},
   "outputs": [],
   "source": []
  },
  {
   "cell_type": "code",
   "execution_count": null,
   "id": "243fc7ca",
   "metadata": {},
   "outputs": [],
   "source": []
  },
  {
   "cell_type": "code",
   "execution_count": null,
   "id": "ee46e9ec",
   "metadata": {},
   "outputs": [],
   "source": []
  },
  {
   "cell_type": "code",
   "execution_count": null,
   "id": "b9a91d47",
   "metadata": {},
   "outputs": [],
   "source": [
    "for i in range(1,5):\n",
    "    print(i)"
   ]
  },
  {
   "cell_type": "code",
   "execution_count": null,
   "id": "25e3df8c",
   "metadata": {},
   "outputs": [],
   "source": []
  },
  {
   "cell_type": "code",
   "execution_count": null,
   "id": "4330a525",
   "metadata": {},
   "outputs": [],
   "source": [
    "def scrolling_down(t):\n",
    "    for i in range(t):\n",
    "        driver.execute_script(\"window.scrollBy(0,2000)\",\"\")\n",
    "        time.sleep(0.5)"
   ]
  },
  {
   "cell_type": "code",
   "execution_count": null,
   "id": "95144b27",
   "metadata": {},
   "outputs": [],
   "source": []
  },
  {
   "cell_type": "code",
   "execution_count": null,
   "id": "b68f66a6",
   "metadata": {},
   "outputs": [],
   "source": []
  }
 ],
 "metadata": {
  "kernelspec": {
   "display_name": "python3.7",
   "language": "python",
   "name": "python3.7"
  },
  "language_info": {
   "codemirror_mode": {
    "name": "ipython",
    "version": 3
   },
   "file_extension": ".py",
   "mimetype": "text/x-python",
   "name": "python",
   "nbconvert_exporter": "python",
   "pygments_lexer": "ipython3",
   "version": "3.7.13"
  }
 },
 "nbformat": 4,
 "nbformat_minor": 5
}
